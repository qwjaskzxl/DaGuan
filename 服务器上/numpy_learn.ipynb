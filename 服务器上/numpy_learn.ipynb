{
 "cells": [
  {
   "cell_type": "markdown",
   "metadata": {},
   "source": [
    "## 矩阵所表示的行列问题"
   ]
  },
  {
   "cell_type": "code",
   "execution_count": 14,
   "metadata": {},
   "outputs": [
    {
     "name": "stdout",
     "output_type": "stream",
     "text": [
      "(2, 1) \n",
      " [[1 2]\n",
      " [3 4]] \n",
      " (2, 2) (2,) (1, 2) (1, 1, 2)\n"
     ]
    }
   ],
   "source": [
    "import numpy as np\n",
    "a = np.array([[1],[2]]) #两行一列，也就是一个列向量\n",
    "a1 = np.array([[1,2],[3,4]]) #2*2 一个对应一行\n",
    "b = np.array([1,2]) # 行数=2，即是一列向量，列数不存在 其实是一“列”\n",
    "\n",
    "c = np.array([[3,2]]) #一行两列，即一个行向量\n",
    "d = np.array([[[1,2]]]) #三维，“高度”为2\n",
    "print(a.shape,'\\n',a1, '\\n', a1.shape,\n",
    "      b.shape, c.shape, d.shape, )"
   ]
  },
  {
   "cell_type": "markdown",
   "metadata": {},
   "source": [
    "## 矩阵拼接"
   ]
  },
  {
   "cell_type": "code",
   "execution_count": 15,
   "metadata": {},
   "outputs": [
    {
     "name": "stdout",
     "output_type": "stream",
     "text": [
      "(3, 2, 3) (2, 3)\n",
      "[1 2 3 4 5 6 2 2 3 4 5 6 3 2 3 4 5 6 4 2 3 4 5 6]\n",
      "原矩阵维数： (3, 2, 3)\n",
      "合并矩阵：\n",
      " [[[1 2 3]\n",
      "  [4 5 6]]\n",
      "\n",
      " [[2 2 3]\n",
      "  [4 5 6]]\n",
      "\n",
      " [[3 2 3]\n",
      "  [4 5 6]]\n",
      "\n",
      " [[4 2 3]\n",
      "  [4 5 6]]]\n",
      "维数： (4, 2, 3)\n"
     ]
    }
   ],
   "source": [
    "import numpy as np\n",
    "aa = np.array([[[1,2,3],[4,5,6]],[[2,2,3],[4,5,6]],[[3,2,3],[4,5,6]]])\n",
    "a = np.array([[4,2,3],[4,5,6]])\n",
    "print(aa.shape, a.shape)\n",
    "data = np.append(aa,a)#先拼接成一个行向量\n",
    "print(data)\n",
    "dim = aa.shape#获取原矩阵的维数\n",
    "print('原矩阵维数：',dim)\n",
    "data1 = data.reshape(dim[0]+1,dim[1],dim[2])#再通过原矩阵的维数重新组合\n",
    "print('合并矩阵：\\n',data1)\n",
    "print('维数：',data1.shape)"
   ]
  },
  {
   "cell_type": "code",
   "execution_count": null,
   "metadata": {
    "collapsed": true
   },
   "outputs": [],
   "source": []
  }
 ],
 "metadata": {
  "kernelspec": {
   "display_name": "Python 3",
   "language": "python",
   "name": "python3"
  },
  "language_info": {
   "codemirror_mode": {
    "name": "ipython",
    "version": 3
   },
   "file_extension": ".py",
   "mimetype": "text/x-python",
   "name": "python",
   "nbconvert_exporter": "python",
   "pygments_lexer": "ipython3",
   "version": "3.6.1"
  }
 },
 "nbformat": 4,
 "nbformat_minor": 2
}
