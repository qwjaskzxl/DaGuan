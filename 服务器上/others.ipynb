{
 "cells": [
  {
   "cell_type": "code",
   "execution_count": null,
   "metadata": {},
   "outputs": [],
   "source": [
    "import time\n",
    "import pandas as pd, numpy as np\n",
    "from sklearn.feature_extraction.text import TfidfVectorizer\n",
    "from sklearn import svm\n",
    "\n",
    "load_start = time.time()\n",
    "column = \"word_seg\"\n",
    "train = pd.read_csv('data/train_set.csv')\n",
    "test = pd.read_csv('data/test_set.csv')\n",
    "test_id = test[\"id\"].copy()\n",
    "vect = TfidfVectorizer(ngram_range=(1,2),min_df=3, max_df=0.9,use_idf=1,smooth_idf=1, sublinear_tf=1)\n",
    "trn_term_doc = vect.fit_transform(train[column])\n",
    "test_term_doc = vect.transform(test[column])\n",
    "print(\"Time consumption on loading:\",time.time() - load_start)\n",
    "\n",
    "train_start = time.time()\n",
    "y=(train[\"class\"]-1).astype(int)\n",
    "lin_clf = svm.LinearSVC(C=0.3)\n",
    "lin_clf.fit(trn_term_doc,y)\n",
    "print(\"Time consumption on training:\",time.time() - train_start)\n",
    "\n",
    "test_start = time.time()\n",
    "fid0=open('baseline.csv','w')\n",
    "preds = lin_clf.predict(test_term_doc)\n",
    "i=0\n",
    "fid0.write(\"id,class\"+\"\\n\")\n",
    "for item in preds:\n",
    "    fid0.write(str(i)+\",\"+str(item+1)+\"\\n\")\n",
    "    i=i+1\n",
    "fid0.close()\n",
    "print(\"Time consumption on testing:\",time.time() - test_start)"
   ]
  }
 ],
 "metadata": {
  "kernelspec": {
   "display_name": "Python 3",
   "language": "python",
   "name": "python3"
  },
  "language_info": {
   "codemirror_mode": {
    "name": "ipython",
    "version": 3
   },
   "file_extension": ".py",
   "mimetype": "text/x-python",
   "name": "python",
   "nbconvert_exporter": "python",
   "pygments_lexer": "ipython3",
   "version": "3.7.0"
  }
 },
 "nbformat": 4,
 "nbformat_minor": 2
}
