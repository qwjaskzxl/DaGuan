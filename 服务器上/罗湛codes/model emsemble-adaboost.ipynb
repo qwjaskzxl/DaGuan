{
 "cells": [
  {
   "cell_type": "code",
   "execution_count": null,
   "metadata": {},
   "outputs": [],
   "source": [
    "from sklearn.ensemble import AdaBoostClassifier\n",
    "from sklearn.tree import DecisionTreeClassifier\n",
    "from sklearn.feature_extraction.text import TfidfVectorizer\n",
    "from sklearn.model_selection import cross_val_score\n",
    "from sklearn import metrics\n",
    "import shelve\n",
    "import time\n",
    "from sklearn.linear_model import SGDClassifier\n",
    "start = time.time();\n",
    "shelve_file = shelve.open('../data/sample')\n",
    "X_train = shelve_file['X_train']\n",
    "y_train = shelve_file['y_train']\n",
    "X_test = shelve_file['X_test']\n",
    "\n",
    "tfidf = TfidfVectorizer(ngram_range=(1,4), min_df=3, max_df=0.9, use_idf=1, smooth_idf=1, sublinear_tf=1)\n",
    "tfidf.fit(X_train)\n",
    "X_train = tfidf.transform(X_train)\n",
    "X_test = tfidf.transform(X_test)\n",
    "train_start = time.time()\n",
    "dtc = DecisionTreeClassifier(max_depth=50, min_samples_split=60, min_samples_leaf=70)\n",
    "sgd = SGDClassifier(loss=\"modified_huber\", alpha=0.00002, n_jobs=-1,penalty = 'l2')\n",
    "bdt = AdaBoostClassifier(sgd,\n",
    "                         algorithm=\"SAMME\",\n",
    "                         n_estimators=100, learning_rate=0.9)\n",
    "bdt.fit(X_train,y_train)\n",
    "print('Time comsumption on train',time.time()-train_start)\n"
   ]
  },
  {
   "cell_type": "code",
   "execution_count": null,
   "metadata": {
    "collapsed": true
   },
   "outputs": [],
   "source": [
    "test_start = time.time()\n",
    "prediction = bdt.predict(X_train)\n",
    "print('Time comsumption on test',time.time()-test_start)\n",
    "print(metrics.classification_report(y_train,prediction))#分类报告\n",
    "print(metrics.confusion_matrix(y_train,prediction))#混淆矩阵"
   ]
  },
  {
   "cell_type": "code",
   "execution_count": null,
   "metadata": {
    "collapsed": true
   },
   "outputs": [],
   "source": [
    "test_start = time.time()\n",
    "#预测\n",
    "X_test = tfidf.transform(X_test)\n",
    "prediction = bdt.predict(X_test)\n",
    "print('Time comsumption on test',time.time()-test_start)\n",
    "#保存结果\n",
    "f_out = open('adaboost.csv', 'w')\n",
    "f_out.write(\"id,class\"+\"\\n\")\n",
    "for i in range(X_test.shape[0]):\n",
    "    f_out.write(str(i)+\",\"+str(prediction[i])+'\\n')\n",
    "f_out.close()\n",
    "print('Time comsumption:',(time.time()-start)/3600,'h')"
   ]
  },
  {
   "cell_type": "code",
   "execution_count": null,
   "metadata": {
    "collapsed": true
   },
   "outputs": [],
   "source": []
  }
 ],
 "metadata": {
  "kernelspec": {
   "display_name": "Python 3",
   "language": "python",
   "name": "python3"
  },
  "language_info": {
   "codemirror_mode": {
    "name": "ipython",
    "version": 3
   },
   "file_extension": ".py",
   "mimetype": "text/x-python",
   "name": "python",
   "nbconvert_exporter": "python",
   "pygments_lexer": "ipython3",
   "version": "3.6.1"
  }
 },
 "nbformat": 4,
 "nbformat_minor": 2
}
