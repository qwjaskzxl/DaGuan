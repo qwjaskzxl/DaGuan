{
 "cells": [
  {
   "cell_type": "code",
   "execution_count": 1,
   "metadata": {},
   "outputs": [
    {
     "name": "stdout",
     "output_type": "stream",
     "text": [
      "Time consumption on lsi 9527.16878771782\n",
      "Time consumption on transform 1542.5663554668427\n",
      "(100562, 7200)\n"
     ]
    },
    {
     "data": {
      "text/plain": [
       "'\\n\\n'"
      ]
     },
     "execution_count": 1,
     "metadata": {},
     "output_type": "execute_result"
    }
   ],
   "source": [
    "from sklearn.linear_model import SGDClassifier\n",
    "from gensim import corpora, models, similarities\n",
    "import numpy as np\n",
    "import shelve\n",
    "import time\n",
    "from scipy.sparse import csr_matrix\n",
    "from sklearn import metrics\n",
    "shelve_file = shelve.open('../data/sample')\n",
    "X_train = shelve_file['X_train']\n",
    "y_train = shelve_file['y_train']\n",
    "X_test = shelve_file['X_test']\n",
    "\n",
    "\n",
    "\n",
    "def func(documents):\n",
    "    texts = [[word for word in document.split()] for document in documents]\n",
    "    corpus = [dictionary.doc2bow(text) for text in texts]\n",
    "    \n",
    "    tfidf = models.TfidfModel(corpus)\n",
    "    corpus_tfidf = tfidf[corpus]\n",
    "    corpus_lsi = lsi[corpus_tfidf]\n",
    "    rows_new = []\n",
    "    cols_new = []\n",
    "    data_new = []\n",
    "    line_count = 0\n",
    "    for line in corpus_lsi:\n",
    "        for elem in line:\n",
    "            rows_new.append(line_count)\n",
    "            cols_new.append(elem[0])\n",
    "            data_new.append(elem[1])\n",
    "        line_count += 1\n",
    "    lsi_sparse_matrix = csr_matrix((data_new, (rows_new, cols_new)))\n",
    "    return lsi_sparse_matrix\n",
    "\n",
    "lsi_start = time.time()\n",
    "texts = [[word for word in document.split()] for document in X_train]\n",
    "dictionary = corpora.Dictionary(texts)\n",
    "dictionary.filter_extremes(no_below = 5,no_above = 0.9)\n",
    "dictionary.compactify()\n",
    "corpus = [dictionary.doc2bow(text) for text in texts]\n",
    "\n",
    "tfidf = models.TfidfModel(corpus)\n",
    "corpus_tfidf = tfidf[corpus]\n",
    "\n",
    "lsi = models.LsiModel(corpus_tfidf, id2word=dictionary, num_topics=7200)\n",
    "corpus_lsi = lsi[corpus_tfidf]\n",
    "print(\"Time consumption on lsi\",time.time( ) - lsi_start)\n",
    "\n",
    "trans_start = time.time()\n",
    "row = []\n",
    "rows = []\n",
    "cols = []\n",
    "data = []\n",
    "line_count = 0\n",
    "for line in corpus_lsi:\n",
    "    for elem in line:\n",
    "        rows.append(line_count)\n",
    "        cols.append(elem[0])\n",
    "        data.append(elem[1])\n",
    "    line_count += 1\n",
    "lsi_sparse_matrix = csr_matrix((data, (rows, cols)))\n",
    "lsi_matrix = lsi_sparse_matrix.toarray()\n",
    "print(\"Time consumption on transform\",time.time( ) - trans_start)\n",
    "print(lsi_matrix.shape)\n",
    "'''\n",
    "\n",
    "'''"
   ]
  },
  {
   "cell_type": "code",
   "execution_count": 2,
   "metadata": {
    "collapsed": true
   },
   "outputs": [],
   "source": [
    "#print(X_test.shape)"
   ]
  },
  {
   "cell_type": "code",
   "execution_count": 3,
   "metadata": {
    "scrolled": false
   },
   "outputs": [
    {
     "name": "stderr",
     "output_type": "stream",
     "text": [
      "/home/amax/anaconda3/lib/python3.6/site-packages/sklearn/linear_model/stochastic_gradient.py:84: FutureWarning: max_iter and tol parameters have been added in <class 'sklearn.linear_model.stochastic_gradient.SGDClassifier'> in 0.19. If both are left unset, they default to max_iter=5 and tol=None. If tol is not None, max_iter defaults to max_iter=1000. From 0.21, default max_iter will be 1000, and default tol will be 1e-3.\n",
      "  \"and default tol will be 1e-3.\" % type(self), FutureWarning)\n"
     ]
    },
    {
     "name": "stdout",
     "output_type": "stream",
     "text": [
      "Time comsumption on train 30.33351182937622\n",
      "             precision    recall  f1-score   support\n",
      "\n",
      "          1       0.71      0.67      0.69      5341\n",
      "         10       0.80      0.76      0.78      4927\n",
      "         11       0.81      0.81      0.81      3514\n",
      "         12       0.79      0.79      0.79      5242\n",
      "         13       0.82      0.85      0.83      7818\n",
      "         14       0.81      0.87      0.84      6693\n",
      "         15       0.92      0.94      0.93      7082\n",
      "         16       0.79      0.61      0.69      2981\n",
      "         17       0.80      0.83      0.82      3058\n",
      "         18       0.89      0.93      0.91      6970\n",
      "         19       0.72      0.75      0.74      5483\n",
      "          2       0.87      0.86      0.86      2889\n",
      "          3       0.94      0.92      0.93      8217\n",
      "          4       0.89      0.90      0.90      3751\n",
      "          5       0.90      0.87      0.89      2335\n",
      "          6       0.95      0.94      0.95      6804\n",
      "          7       0.83      0.74      0.79      3010\n",
      "          8       0.78      0.82      0.80      6925\n",
      "          9       0.94      0.95      0.95      7522\n",
      "\n",
      "avg / total       0.85      0.85      0.85    100562\n",
      "\n",
      "[[3603  119   63   80  254  205   54  157   56   71  123   43   24   27\n",
      "    39   10   46  311   56]\n",
      " [ 103 3743   22   46   98  193   43   25   38   26   43   16   22   19\n",
      "    41   44   38  360    7]\n",
      " [  53   10 2839  101   84   23   87    4   22   21   86    8   54   12\n",
      "     8   12   28   28   34]\n",
      " [  99   39   91 4126  121   32   34   16   21   50  203   24   92   48\n",
      "    16   43   84   56   47]\n",
      " [ 176   70   59   66 6653  109   39   60   21   48  213   31   40   32\n",
      "     9   21   15  124   32]\n",
      " [  57   65   14   31  137 5797   25   16  225   14   46   16   17   86\n",
      "     4   10   51   68   14]\n",
      " [  28   18   63   22   31   63 6643    1   24    6   54    4   31   27\n",
      "     5    8   14   21   19]\n",
      " [ 287   86    1   60  173   62    6 1808    8   46   75   33    7   22\n",
      "    23   10    5  269    0]\n",
      " [  16   15   12   14   18  283   22    5 2551   10   31   16   12    7\n",
      "     1    1   16   23    5]\n",
      " [  46   11   17   28   50   18   15   13   14 6461  197   16   12    4\n",
      "     6    4    9   39   10]\n",
      " [  92   49   77  138  162   71   64   21   57  303 4108   54   45   16\n",
      "     3   11   50   77   85]\n",
      " [  51   13   13   27   31    7    8    9   24   49   84 2482    2   16\n",
      "     7    4   11   43    8]\n",
      " [  38   21   83  108   42   15   60   10   16   34   52   12 7553   11\n",
      "     3   88   13   24   34]\n",
      " [  28   24   13   41   36   75   12   11   15   10   13   16    8 3369\n",
      "    12   19   26   20    3]\n",
      " [  65   28    8   29   24    7    4    7    6    1   18   16    8    7\n",
      "  2037    6    9   51    4]\n",
      " [  15   51   33   34   26    5   21    3    6   15   22    6  108   13\n",
      "     9 6408   10   15    4]\n",
      " [  25   38   45  135   36  108   23    0   52    8  131   20   23   44\n",
      "     1    4 2239   27   51]\n",
      " [ 249  263   24   60  154  104   25  126   36   22   73   46    6   10\n",
      "    28   15   13 5663    8]\n",
      " [  12    6   28   48   26   12   27    2    8   26  102    4    9    2\n",
      "     1    6   13   19 7171]]\n"
     ]
    },
    {
     "ename": "MemoryError",
     "evalue": "",
     "output_type": "error",
     "traceback": [
      "\u001b[0;31m---------------------------------------------------------------------------\u001b[0m",
      "\u001b[0;31mMemoryError\u001b[0m                               Traceback (most recent call last)",
      "\u001b[0;32m<ipython-input-3-b1112889d51f>\u001b[0m in \u001b[0;36m<module>\u001b[0;34m()\u001b[0m\n\u001b[1;32m     15\u001b[0m \u001b[0mtest_start\u001b[0m \u001b[0;34m=\u001b[0m \u001b[0mtime\u001b[0m\u001b[0;34m.\u001b[0m\u001b[0mtime\u001b[0m\u001b[0;34m(\u001b[0m\u001b[0;34m)\u001b[0m\u001b[0;34m\u001b[0m\u001b[0m\n\u001b[1;32m     16\u001b[0m \u001b[0;31m#预测\u001b[0m\u001b[0;34m\u001b[0m\u001b[0;34m\u001b[0m\u001b[0m\n\u001b[0;32m---> 17\u001b[0;31m \u001b[0mX_test\u001b[0m \u001b[0;34m=\u001b[0m \u001b[0mfunc\u001b[0m\u001b[0;34m(\u001b[0m\u001b[0mX_test\u001b[0m\u001b[0;34m)\u001b[0m\u001b[0;34m\u001b[0m\u001b[0m\n\u001b[0m\u001b[1;32m     18\u001b[0m \u001b[0;34m\u001b[0m\u001b[0m\n\u001b[1;32m     19\u001b[0m \u001b[0mprediction\u001b[0m \u001b[0;34m=\u001b[0m \u001b[0mclf\u001b[0m\u001b[0;34m.\u001b[0m\u001b[0mpredict\u001b[0m\u001b[0;34m(\u001b[0m\u001b[0mX_test\u001b[0m\u001b[0;34m)\u001b[0m\u001b[0;34m\u001b[0m\u001b[0m\n",
      "\u001b[0;32m<ipython-input-1-9cd4570f5d51>\u001b[0m in \u001b[0;36mfunc\u001b[0;34m(documents)\u001b[0m\n\u001b[1;32m     30\u001b[0m             \u001b[0mdata_new\u001b[0m\u001b[0;34m.\u001b[0m\u001b[0mappend\u001b[0m\u001b[0;34m(\u001b[0m\u001b[0melem\u001b[0m\u001b[0;34m[\u001b[0m\u001b[0;36m1\u001b[0m\u001b[0;34m]\u001b[0m\u001b[0;34m)\u001b[0m\u001b[0;34m\u001b[0m\u001b[0m\n\u001b[1;32m     31\u001b[0m         \u001b[0mline_count\u001b[0m \u001b[0;34m+=\u001b[0m \u001b[0;36m1\u001b[0m\u001b[0;34m\u001b[0m\u001b[0m\n\u001b[0;32m---> 32\u001b[0;31m     \u001b[0mlsi_sparse_matrix\u001b[0m \u001b[0;34m=\u001b[0m \u001b[0mcsr_matrix\u001b[0m\u001b[0;34m(\u001b[0m\u001b[0;34m(\u001b[0m\u001b[0mdata_new\u001b[0m\u001b[0;34m,\u001b[0m \u001b[0;34m(\u001b[0m\u001b[0mrows_new\u001b[0m\u001b[0;34m,\u001b[0m \u001b[0mcols_new\u001b[0m\u001b[0;34m)\u001b[0m\u001b[0;34m)\u001b[0m\u001b[0;34m)\u001b[0m\u001b[0;34m\u001b[0m\u001b[0m\n\u001b[0m\u001b[1;32m     33\u001b[0m     \u001b[0;32mreturn\u001b[0m \u001b[0mlsi_sparse_matrix\u001b[0m\u001b[0;34m\u001b[0m\u001b[0m\n\u001b[1;32m     34\u001b[0m \u001b[0;34m\u001b[0m\u001b[0m\n",
      "\u001b[0;32m/home/amax/anaconda3/lib/python3.6/site-packages/scipy/sparse/compressed.py\u001b[0m in \u001b[0;36m__init__\u001b[0;34m(self, arg1, shape, dtype, copy)\u001b[0m\n\u001b[1;32m     49\u001b[0m                     \u001b[0;31m# (data, ij) format\u001b[0m\u001b[0;34m\u001b[0m\u001b[0;34m\u001b[0m\u001b[0m\n\u001b[1;32m     50\u001b[0m                     \u001b[0;32mfrom\u001b[0m \u001b[0;34m.\u001b[0m\u001b[0mcoo\u001b[0m \u001b[0;32mimport\u001b[0m \u001b[0mcoo_matrix\u001b[0m\u001b[0;34m\u001b[0m\u001b[0m\n\u001b[0;32m---> 51\u001b[0;31m                     \u001b[0mother\u001b[0m \u001b[0;34m=\u001b[0m \u001b[0mself\u001b[0m\u001b[0;34m.\u001b[0m\u001b[0m__class__\u001b[0m\u001b[0;34m(\u001b[0m\u001b[0mcoo_matrix\u001b[0m\u001b[0;34m(\u001b[0m\u001b[0marg1\u001b[0m\u001b[0;34m,\u001b[0m \u001b[0mshape\u001b[0m\u001b[0;34m=\u001b[0m\u001b[0mshape\u001b[0m\u001b[0;34m)\u001b[0m\u001b[0;34m)\u001b[0m\u001b[0;34m\u001b[0m\u001b[0m\n\u001b[0m\u001b[1;32m     52\u001b[0m                     \u001b[0mself\u001b[0m\u001b[0;34m.\u001b[0m\u001b[0m_set_self\u001b[0m\u001b[0;34m(\u001b[0m\u001b[0mother\u001b[0m\u001b[0;34m)\u001b[0m\u001b[0;34m\u001b[0m\u001b[0m\n\u001b[1;32m     53\u001b[0m                 \u001b[0;32melif\u001b[0m \u001b[0mlen\u001b[0m\u001b[0;34m(\u001b[0m\u001b[0marg1\u001b[0m\u001b[0;34m)\u001b[0m \u001b[0;34m==\u001b[0m \u001b[0;36m3\u001b[0m\u001b[0;34m:\u001b[0m\u001b[0;34m\u001b[0m\u001b[0m\n",
      "\u001b[0;32m/home/amax/anaconda3/lib/python3.6/site-packages/scipy/sparse/coo.py\u001b[0m in \u001b[0;36m__init__\u001b[0;34m(self, arg1, shape, dtype, copy)\u001b[0m\n\u001b[1;32m    138\u001b[0m                         raise ValueError('cannot infer dimensions from zero '\n\u001b[1;32m    139\u001b[0m                                          'sized index arrays')\n\u001b[0;32m--> 140\u001b[0;31m                     \u001b[0mM\u001b[0m \u001b[0;34m=\u001b[0m \u001b[0mnp\u001b[0m\u001b[0;34m.\u001b[0m\u001b[0mmax\u001b[0m\u001b[0;34m(\u001b[0m\u001b[0mrow\u001b[0m\u001b[0;34m)\u001b[0m \u001b[0;34m+\u001b[0m \u001b[0;36m1\u001b[0m\u001b[0;34m\u001b[0m\u001b[0m\n\u001b[0m\u001b[1;32m    141\u001b[0m                     \u001b[0mN\u001b[0m \u001b[0;34m=\u001b[0m \u001b[0mnp\u001b[0m\u001b[0;34m.\u001b[0m\u001b[0mmax\u001b[0m\u001b[0;34m(\u001b[0m\u001b[0mcol\u001b[0m\u001b[0;34m)\u001b[0m \u001b[0;34m+\u001b[0m \u001b[0;36m1\u001b[0m\u001b[0;34m\u001b[0m\u001b[0m\n\u001b[1;32m    142\u001b[0m                     \u001b[0mself\u001b[0m\u001b[0;34m.\u001b[0m\u001b[0mshape\u001b[0m \u001b[0;34m=\u001b[0m \u001b[0;34m(\u001b[0m\u001b[0mM\u001b[0m\u001b[0;34m,\u001b[0m \u001b[0mN\u001b[0m\u001b[0;34m)\u001b[0m\u001b[0;34m\u001b[0m\u001b[0m\n",
      "\u001b[0;32m/home/amax/anaconda3/lib/python3.6/site-packages/numpy/core/fromnumeric.py\u001b[0m in \u001b[0;36mamax\u001b[0;34m(a, axis, out, keepdims)\u001b[0m\n\u001b[1;32m   2250\u001b[0m \u001b[0;34m\u001b[0m\u001b[0m\n\u001b[1;32m   2251\u001b[0m     return _methods._amax(a, axis=axis,\n\u001b[0;32m-> 2252\u001b[0;31m                           out=out, **kwargs)\n\u001b[0m\u001b[1;32m   2253\u001b[0m \u001b[0;34m\u001b[0m\u001b[0m\n\u001b[1;32m   2254\u001b[0m \u001b[0;34m\u001b[0m\u001b[0m\n",
      "\u001b[0;32m/home/amax/anaconda3/lib/python3.6/site-packages/numpy/core/_methods.py\u001b[0m in \u001b[0;36m_amax\u001b[0;34m(a, axis, out, keepdims)\u001b[0m\n\u001b[1;32m     24\u001b[0m \u001b[0;31m# small reductions\u001b[0m\u001b[0;34m\u001b[0m\u001b[0;34m\u001b[0m\u001b[0m\n\u001b[1;32m     25\u001b[0m \u001b[0;32mdef\u001b[0m \u001b[0m_amax\u001b[0m\u001b[0;34m(\u001b[0m\u001b[0ma\u001b[0m\u001b[0;34m,\u001b[0m \u001b[0maxis\u001b[0m\u001b[0;34m=\u001b[0m\u001b[0;32mNone\u001b[0m\u001b[0;34m,\u001b[0m \u001b[0mout\u001b[0m\u001b[0;34m=\u001b[0m\u001b[0;32mNone\u001b[0m\u001b[0;34m,\u001b[0m \u001b[0mkeepdims\u001b[0m\u001b[0;34m=\u001b[0m\u001b[0;32mFalse\u001b[0m\u001b[0;34m)\u001b[0m\u001b[0;34m:\u001b[0m\u001b[0;34m\u001b[0m\u001b[0m\n\u001b[0;32m---> 26\u001b[0;31m     \u001b[0;32mreturn\u001b[0m \u001b[0mumr_maximum\u001b[0m\u001b[0;34m(\u001b[0m\u001b[0ma\u001b[0m\u001b[0;34m,\u001b[0m \u001b[0maxis\u001b[0m\u001b[0;34m,\u001b[0m \u001b[0;32mNone\u001b[0m\u001b[0;34m,\u001b[0m \u001b[0mout\u001b[0m\u001b[0;34m,\u001b[0m \u001b[0mkeepdims\u001b[0m\u001b[0;34m)\u001b[0m\u001b[0;34m\u001b[0m\u001b[0m\n\u001b[0m\u001b[1;32m     27\u001b[0m \u001b[0;34m\u001b[0m\u001b[0m\n\u001b[1;32m     28\u001b[0m \u001b[0;32mdef\u001b[0m \u001b[0m_amin\u001b[0m\u001b[0;34m(\u001b[0m\u001b[0ma\u001b[0m\u001b[0;34m,\u001b[0m \u001b[0maxis\u001b[0m\u001b[0;34m=\u001b[0m\u001b[0;32mNone\u001b[0m\u001b[0;34m,\u001b[0m \u001b[0mout\u001b[0m\u001b[0;34m=\u001b[0m\u001b[0;32mNone\u001b[0m\u001b[0;34m,\u001b[0m \u001b[0mkeepdims\u001b[0m\u001b[0;34m=\u001b[0m\u001b[0;32mFalse\u001b[0m\u001b[0;34m)\u001b[0m\u001b[0;34m:\u001b[0m\u001b[0;34m\u001b[0m\u001b[0m\n",
      "\u001b[0;31mMemoryError\u001b[0m: "
     ]
    }
   ],
   "source": [
    "\n",
    "train_start = time.time()\n",
    "X_train = lsi_sparse_matrix\n",
    "clf = SGDClassifier(loss=\"modified_huber\", penalty=\"l2\", alpha=0.00002, n_jobs=-1)#分类器\n",
    "clf.fit(X_train,y_train)\n",
    "print('Time comsumption on train',time.time()-train_start)\n",
    "\n",
    "\n",
    "\n",
    "prediction = clf.predict(X_train)\n",
    "print(metrics.classification_report(y_train,prediction))#分类报告\n",
    "print(metrics.confusion_matrix(y_train,prediction))#混淆矩阵\n",
    "\n",
    "\n",
    "test_start = time.time()\n",
    "#预测\n",
    "X_test = func(X_test)\n",
    "\n",
    "prediction = clf.predict(X_test)\n",
    "print('Time comsumption on test',time.time()-test_start)\n",
    "#保存结果\n",
    "save_start = time.time()\n",
    "f_out = open('ans.csv', 'w')\n",
    "f_out.write(\"id,class\"+\"\\n\")\n",
    "for i in range(X_test.shape[0]):\n",
    "    f_out.write(str(i)+\",\"+str(prediction[i])+'\\n')\n",
    "f_out.close()\n",
    "print('Time comsumption on save',time.time()-save_start)"
   ]
  },
  {
   "cell_type": "code",
   "execution_count": null,
   "metadata": {
    "collapsed": true
   },
   "outputs": [],
   "source": []
  }
 ],
 "metadata": {
  "kernelspec": {
   "display_name": "Python 3",
   "language": "python",
   "name": "python3"
  },
  "language_info": {
   "codemirror_mode": {
    "name": "ipython",
    "version": 3
   },
   "file_extension": ".py",
   "mimetype": "text/x-python",
   "name": "python",
   "nbconvert_exporter": "python",
   "pygments_lexer": "ipython3",
   "version": "3.6.3"
  }
 },
 "nbformat": 4,
 "nbformat_minor": 2
}
