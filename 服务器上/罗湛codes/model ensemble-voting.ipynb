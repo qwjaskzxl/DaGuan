{
 "cells": [
  {
   "cell_type": "code",
   "execution_count": 1,
   "metadata": {
    "collapsed": true
   },
   "outputs": [],
   "source": [
    "from sklearn.ensemble import VotingClassifier\n",
    "from sklearn.feature_extraction.text import TfidfVectorizer\n",
    "from sklearn.feature_extraction.text import CountVectorizer\n",
    "from sklearn.model_selection import cross_val_score\n",
    "import shelve\n",
    "from sklearn import metrics\n",
    "import time\n",
    "from sklearn.externals import joblib\n",
    "from sklearn.feature_selection import SelectKBest\n",
    "from sklearn.feature_selection import chi2, mutual_info_classif\n",
    "from sklearn.pipeline import Pipeline\n",
    "from sklearn.linear_model import SGDClassifier\n",
    "from sklearn.svm import LinearSVC,SVC\n",
    "from sklearn.ensemble import RandomForestClassifier\n",
    "from sklearn.neighbors import KNeighborsClassifier\n",
    "from sklearn.naive_bayes import MultinomialNB\n",
    "from sklearn.linear_model.logistic import LogisticRegression\n",
    "from sklearn.ensemble import GradientBoostingClassifier\n",
    "from sklearn.tree import DecisionTreeClassifier\n",
    "start = time.time()"
   ]
  },
  {
   "cell_type": "markdown",
   "metadata": {},
   "source": [
    "### 读取样本"
   ]
  },
  {
   "cell_type": "code",
   "execution_count": 2,
   "metadata": {},
   "outputs": [
    {
     "name": "stdout",
     "output_type": "stream",
     "text": [
      "(100562, 7000000)\n"
     ]
    }
   ],
   "source": [
    "shelve_file = shelve.open('../data/sample')\n",
    "X_train = shelve_file['X_train']\n",
    "y_train = shelve_file['y_train']\n",
    "X_test = shelve_file['X_test']\n",
    "\n",
    "tfidf = TfidfVectorizer(ngram_range=(1,4), min_df=3, max_df=0.9, use_idf=1, smooth_idf=1, sublinear_tf=1)\n",
    "tfidf.fit(X_train)\n",
    "X_train = tfidf.transform(X_train)\n",
    "X_test = tfidf.transform(X_test)\n",
    "skb = SelectKBest(chi2,k = 7000000)#特征选择\n",
    "X_train = skb.fit_transform(X_train,y_train) \n",
    "X_test = skb.transform(X_test) \n",
    "print(X_train.shape)"
   ]
  },
  {
   "cell_type": "code",
   "execution_count": null,
   "metadata": {},
   "outputs": [
    {
     "name": "stderr",
     "output_type": "stream",
     "text": [
      "/home/amax/anaconda3/lib/python3.6/site-packages/sklearn/linear_model/stochastic_gradient.py:84: FutureWarning: max_iter and tol parameters have been added in <class 'sklearn.linear_model.stochastic_gradient.SGDClassifier'> in 0.19. If both are left unset, they default to max_iter=5 and tol=None. If tol is not None, max_iter defaults to max_iter=1000. From 0.21, default max_iter will be 1000, and default tol will be 1e-3.\n",
      "  \"and default tol will be 1e-3.\" % type(self), FutureWarning)\n"
     ]
    }
   ],
   "source": [
    "clf1 = SGDClassifier(loss=\"modified_huber\", alpha=0.00002, n_jobs=-1,penalty = 'l2')\n",
    "clf2 = DecisionTreeClassifier()\n",
    "# clf3 = LinearSVC(C=1.5, loss='squared_hinge', intercept_scaling=1, tol=0.0002, multi_class='ovr')\n",
    "clf3 = SVC(kernel='linear',C=1.5,tol=0.0002,probability=True)\n",
    "eclf = VotingClassifier(estimators=[('sgd', clf1), ('dtc', clf2), ('lsvc', clf3)], voting='soft')"
   ]
  },
  {
   "cell_type": "markdown",
   "metadata": {},
   "source": [
    "### 训练"
   ]
  },
  {
   "cell_type": "code",
   "execution_count": null,
   "metadata": {
    "collapsed": true
   },
   "outputs": [],
   "source": [
    "train_start = time.time()\n",
    "eclf.fit(X_train,y_train)\n",
    "print(\"Time consumption on train\",time.time( ) - train_start)\n",
    "\n",
    "#训练效果\n",
    "prediction = eclf.predict(X_train)\n",
    "print(metrics.classification_report(y_train,prediction))#分类报告\n",
    "print(metrics.confusion_matrix(y_train,prediction))#混淆矩阵"
   ]
  },
  {
   "cell_type": "markdown",
   "metadata": {},
   "source": [
    "### 交叉验证"
   ]
  },
  {
   "cell_type": "code",
   "execution_count": null,
   "metadata": {
    "collapsed": true
   },
   "outputs": [],
   "source": [
    "vali_start = time.time()\n",
    "scores = cross_val_score(eclf, X_train, y_train , cv=3, scoring='f1_macro')#交叉验证\n",
    "print(scores) #各组分数\n",
    "print(scores.mean(),'+/-',scores.std()*2) #平均分\n",
    "print(\"Time consumption on cv\",time.time( ) - vali_start)"
   ]
  },
  {
   "cell_type": "markdown",
   "metadata": {},
   "source": [
    "### 预测"
   ]
  },
  {
   "cell_type": "code",
   "execution_count": null,
   "metadata": {
    "collapsed": true
   },
   "outputs": [],
   "source": [
    "test_start = time.time()\n",
    "#预测\n",
    "prediction = eclf.predict(X_test)\n",
    "print('Time comsumption on test',time.time()-test_start)\n",
    "#保存结果\n",
    "f_out = open('voting.csv', 'w')\n",
    "f_out.write(\"id,class\"+\"\\n\")\n",
    "for i in range(len(X_test)):\n",
    "    f_out.write(str(i)+\",\"+str(prediction[i])+'\\n')\n",
    "f_out.close()\n",
    "print('total time comsumption',time.time()-start)"
   ]
  },
  {
   "cell_type": "code",
   "execution_count": null,
   "metadata": {
    "collapsed": true
   },
   "outputs": [],
   "source": []
  }
 ],
 "metadata": {
  "kernelspec": {
   "display_name": "Python 3",
   "language": "python",
   "name": "python3"
  },
  "language_info": {
   "codemirror_mode": {
    "name": "ipython",
    "version": 3
   },
   "file_extension": ".py",
   "mimetype": "text/x-python",
   "name": "python",
   "nbconvert_exporter": "python",
   "pygments_lexer": "ipython3",
   "version": "3.6.1"
  }
 },
 "nbformat": 4,
 "nbformat_minor": 2
}
