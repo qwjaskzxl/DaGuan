{
 "cells": [
  {
   "cell_type": "code",
   "execution_count": null,
   "metadata": {
    "collapsed": true
   },
   "outputs": [],
   "source": [
    "import shelve\n",
    "from sklearn.pipeline import Pipeline\n",
    "from sklearn.feature_extraction.text import TfidfVectorizer\n",
    "from sklearn.model_selection import  GridSearchCV\n",
    "from sklearn.feature_selection import SelectKBest\n",
    "from sklearn.feature_selection import chi2, mutual_info_classif\n",
    "from sklearn.linear_model import SGDClassifier\n",
    "from sklearn.svm import LinearSVC\n",
    "from sklearn.model_selection import  RandomizedSearchCV\n",
    "import time\n",
    "\n",
    "shelve_file = shelve.open('../data/sample')\n",
    "X_train = shelve_file['X_train']\n",
    "y_train = shelve_file['y_train']\n",
    "\n",
    "steps = [('tfidf',TfidfVectorizer(ngram_range=(1,4), min_df=3, max_df=0.9, use_idf=1, smooth_idf=1, sublinear_tf=1)),\n",
    "        (('skb'),SelectKBest(chi2,k = 'all')),\n",
    "        (('clf'),SGDClassifier(loss=\"modified_huber\", penalty=\"l2\", alpha=0.00002, n_jobs=-1))]\n",
    "clf = Pipeline(steps)\n",
    "\n",
    "parameters = {}\n",
    "rand = RandomizedSearchCV(ppl_clf, parameters, scoring='f1_macro', n_iter=10, random_state=5)\n",
    "rand.fit(X_train,y_train)\n",
    "print(\"Time consumption on searching:\",time.time() - search_start)\n",
    "#print(rand.grid_scores_)\n",
    "print(rand.best_scores_)\n",
    "print(rand.best_params_)\n",
    "print(gid.best_estimator)"
   ]
  }
 ],
 "metadata": {
  "kernelspec": {
   "display_name": "Python 3",
   "language": "python",
   "name": "python3"
  },
  "language_info": {
   "codemirror_mode": {
    "name": "ipython",
    "version": 3
   },
   "file_extension": ".py",
   "mimetype": "text/x-python",
   "name": "python",
   "nbconvert_exporter": "python",
   "pygments_lexer": "ipython3",
   "version": "3.6.1"
  }
 },
 "nbformat": 4,
 "nbformat_minor": 2
}
